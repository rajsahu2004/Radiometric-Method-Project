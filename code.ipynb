{
 "cells": [
  {
   "cell_type": "code",
   "execution_count": 1,
   "metadata": {},
   "outputs": [],
   "source": [
    "import pandas as pd\n",
    "import numpy as np\n",
    "import matplotlib.pyplot as plt\n",
    "import datetime as dt\n",
    "import seaborn as sns"
   ]
  },
  {
   "cell_type": "code",
   "execution_count": 2,
   "metadata": {},
   "outputs": [
    {
     "data": {
      "text/html": [
       "<div>\n",
       "<style scoped>\n",
       "    .dataframe tbody tr th:only-of-type {\n",
       "        vertical-align: middle;\n",
       "    }\n",
       "\n",
       "    .dataframe tbody tr th {\n",
       "        vertical-align: top;\n",
       "    }\n",
       "\n",
       "    .dataframe thead th {\n",
       "        text-align: right;\n",
       "    }\n",
       "</style>\n",
       "<table border=\"1\" class=\"dataframe\">\n",
       "  <thead>\n",
       "    <tr style=\"text-align: right;\">\n",
       "      <th></th>\n",
       "      <th>Dates of the year 2009</th>\n",
       "      <th>Reference value of\\nT_{B} (K) at\\n23.834GHz</th>\n",
       "      <th>Reference Value of\\nT_{B} (K) at 30GHz</th>\n",
       "      <th>Precursor time of\\nrain event (minutes)</th>\n",
       "    </tr>\n",
       "  </thead>\n",
       "  <tbody>\n",
       "    <tr>\n",
       "      <th>0</th>\n",
       "      <td>14^{th} Jan</td>\n",
       "      <td>70.26</td>\n",
       "      <td>30.80</td>\n",
       "      <td>35.58</td>\n",
       "    </tr>\n",
       "    <tr>\n",
       "      <th>1</th>\n",
       "      <td>15^{th} Jan</td>\n",
       "      <td>68.15</td>\n",
       "      <td>30.25</td>\n",
       "      <td>36.18</td>\n",
       "    </tr>\n",
       "    <tr>\n",
       "      <th>2</th>\n",
       "      <td>16-17^{th} Jan</td>\n",
       "      <td>72.23</td>\n",
       "      <td>33.58</td>\n",
       "      <td>38.65</td>\n",
       "    </tr>\n",
       "    <tr>\n",
       "      <th>3</th>\n",
       "      <td>17^{th} Jan</td>\n",
       "      <td>73.04</td>\n",
       "      <td>31.75</td>\n",
       "      <td>36.49</td>\n",
       "    </tr>\n",
       "    <tr>\n",
       "      <th>4</th>\n",
       "      <td>18^{th} Jan</td>\n",
       "      <td>68.80</td>\n",
       "      <td>30. 43</td>\n",
       "      <td>38.05</td>\n",
       "    </tr>\n",
       "  </tbody>\n",
       "</table>\n",
       "</div>"
      ],
      "text/plain": [
       "  Dates of the year 2009  Reference value of\\nT_{B} (K) at\\n23.834GHz  \\\n",
       "0            14^{th} Jan                                        70.26   \n",
       "1            15^{th} Jan                                        68.15   \n",
       "2         16-17^{th} Jan                                        72.23   \n",
       "3            17^{th} Jan                                        73.04   \n",
       "4            18^{th} Jan                                        68.80   \n",
       "\n",
       "  Reference Value of\\nT_{B} (K) at 30GHz  \\\n",
       "0                                  30.80   \n",
       "1                                  30.25   \n",
       "2                                  33.58   \n",
       "3                                  31.75   \n",
       "4                                 30. 43   \n",
       "\n",
       "   Precursor time of\\nrain event (minutes)  \n",
       "0                                    35.58  \n",
       "1                                    36.18  \n",
       "2                                    38.65  \n",
       "3                                    36.49  \n",
       "4                                    38.05  "
      ]
     },
     "execution_count": 2,
     "metadata": {},
     "output_type": "execute_result"
    }
   ],
   "source": [
    "data = pd.read_csv('data/data.csv')\n",
    "data.head()"
   ]
  },
  {
   "cell_type": "code",
   "execution_count": null,
   "metadata": {},
   "outputs": [],
   "source": []
  }
 ],
 "metadata": {
  "kernelspec": {
   "display_name": "Python 3",
   "language": "python",
   "name": "python3"
  },
  "language_info": {
   "codemirror_mode": {
    "name": "ipython",
    "version": 3
   },
   "file_extension": ".py",
   "mimetype": "text/x-python",
   "name": "python",
   "nbconvert_exporter": "python",
   "pygments_lexer": "ipython3",
   "version": "3.11.2"
  },
  "orig_nbformat": 4
 },
 "nbformat": 4,
 "nbformat_minor": 2
}
