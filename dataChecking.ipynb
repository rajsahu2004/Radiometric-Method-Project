{
 "cells": [
  {
   "cell_type": "code",
   "execution_count": 1,
   "metadata": {},
   "outputs": [],
   "source": [
    "import pandas as pd\n",
    "import matplotlib.pyplot as plt\n",
    "import numpy as np\n",
    "import seaborn as sns"
   ]
  },
  {
   "cell_type": "code",
   "execution_count": 2,
   "metadata": {},
   "outputs": [
    {
     "data": {
      "text/html": [
       "<div>\n",
       "<style scoped>\n",
       "    .dataframe tbody tr th:only-of-type {\n",
       "        vertical-align: middle;\n",
       "    }\n",
       "\n",
       "    .dataframe tbody tr th {\n",
       "        vertical-align: top;\n",
       "    }\n",
       "\n",
       "    .dataframe thead th {\n",
       "        text-align: right;\n",
       "    }\n",
       "</style>\n",
       "<table border=\"1\" class=\"dataframe\">\n",
       "  <thead>\n",
       "    <tr style=\"text-align: right;\">\n",
       "      <th></th>\n",
       "      <th>PAYS</th>\n",
       "      <th>Code</th>\n",
       "      <th>Location</th>\n",
       "      <th>Longitude</th>\n",
       "      <th>Latitude</th>\n",
       "      <th>I_131_(Bq/m3)</th>\n",
       "      <th>Cs_134_(Bq/m3)</th>\n",
       "      <th>Cs_137_(Bq/m3)</th>\n",
       "    </tr>\n",
       "    <tr>\n",
       "      <th>Date</th>\n",
       "      <th></th>\n",
       "      <th></th>\n",
       "      <th></th>\n",
       "      <th></th>\n",
       "      <th></th>\n",
       "      <th></th>\n",
       "      <th></th>\n",
       "      <th></th>\n",
       "    </tr>\n",
       "  </thead>\n",
       "  <tbody>\n",
       "    <tr>\n",
       "      <th>1986-04-27</th>\n",
       "      <td>SE</td>\n",
       "      <td>1</td>\n",
       "      <td>RISOE</td>\n",
       "      <td>12.07</td>\n",
       "      <td>55.7</td>\n",
       "      <td>1</td>\n",
       "      <td>0</td>\n",
       "      <td>0.24</td>\n",
       "    </tr>\n",
       "    <tr>\n",
       "      <th>1986-04-28</th>\n",
       "      <td>SE</td>\n",
       "      <td>1</td>\n",
       "      <td>RISOE</td>\n",
       "      <td>12.07</td>\n",
       "      <td>55.7</td>\n",
       "      <td>0.0046</td>\n",
       "      <td>0.00054</td>\n",
       "      <td>0.00098</td>\n",
       "    </tr>\n",
       "    <tr>\n",
       "      <th>1986-04-29</th>\n",
       "      <td>SE</td>\n",
       "      <td>1</td>\n",
       "      <td>RISOE</td>\n",
       "      <td>12.07</td>\n",
       "      <td>55.7</td>\n",
       "      <td>0.0147</td>\n",
       "      <td>0.0043</td>\n",
       "      <td>0.0074</td>\n",
       "    </tr>\n",
       "    <tr>\n",
       "      <th>1986-04-29</th>\n",
       "      <td>SE</td>\n",
       "      <td>1</td>\n",
       "      <td>RISOE</td>\n",
       "      <td>12.07</td>\n",
       "      <td>55.7</td>\n",
       "      <td>0.00061</td>\n",
       "      <td>0</td>\n",
       "      <td>0.00009</td>\n",
       "    </tr>\n",
       "    <tr>\n",
       "      <th>1986-04-30</th>\n",
       "      <td>SE</td>\n",
       "      <td>1</td>\n",
       "      <td>RISOE</td>\n",
       "      <td>12.07</td>\n",
       "      <td>55.7</td>\n",
       "      <td>0.00075</td>\n",
       "      <td>0.0001</td>\n",
       "      <td>0.00028</td>\n",
       "    </tr>\n",
       "  </tbody>\n",
       "</table>\n",
       "</div>"
      ],
      "text/plain": [
       "           PAYS  Code Location  Longitude  Latitude I_131_(Bq/m3)  \\\n",
       "Date                                                                \n",
       "1986-04-27   SE     1    RISOE      12.07      55.7             1   \n",
       "1986-04-28   SE     1    RISOE      12.07      55.7        0.0046   \n",
       "1986-04-29   SE     1    RISOE      12.07      55.7        0.0147   \n",
       "1986-04-29   SE     1    RISOE      12.07      55.7       0.00061   \n",
       "1986-04-30   SE     1    RISOE      12.07      55.7       0.00075   \n",
       "\n",
       "           Cs_134_(Bq/m3) Cs_137_(Bq/m3)  \n",
       "Date                                      \n",
       "1986-04-27              0           0.24  \n",
       "1986-04-28        0.00054        0.00098  \n",
       "1986-04-29         0.0043         0.0074  \n",
       "1986-04-29              0        0.00009  \n",
       "1986-04-30         0.0001        0.00028  "
      ]
     },
     "execution_count": 2,
     "metadata": {},
     "output_type": "execute_result"
    }
   ],
   "source": [
    "chernobylData = pd.read_csv('./data/Chernobyl_ Chemical_Radiation.csv',index_col='Date',parse_dates=True)\n",
    "chernobylData.head()"
   ]
  },
  {
   "cell_type": "code",
   "execution_count": 3,
   "metadata": {},
   "outputs": [
    {
     "name": "stdout",
     "output_type": "stream",
     "text": [
      "<class 'pandas.core.frame.DataFrame'>\n",
      "DatetimeIndex: 2051 entries, 1986-04-27 to 1986-05-11\n",
      "Data columns (total 8 columns):\n",
      " #   Column          Non-Null Count  Dtype  \n",
      "---  ------          --------------  -----  \n",
      " 0   PAYS            2051 non-null   object \n",
      " 1   Code            2051 non-null   int64  \n",
      " 2   Location        2051 non-null   object \n",
      " 3   Longitude       2051 non-null   float64\n",
      " 4   Latitude        2051 non-null   float64\n",
      " 5   I_131_(Bq/m3)   2031 non-null   object \n",
      " 6   Cs_134_(Bq/m3)  1897 non-null   object \n",
      " 7   Cs_137_(Bq/m3)  1571 non-null   object \n",
      "dtypes: float64(2), int64(1), object(5)\n",
      "memory usage: 144.2+ KB\n"
     ]
    }
   ],
   "source": [
    "chernobylData.info()"
   ]
  },
  {
   "cell_type": "code",
   "execution_count": 4,
   "metadata": {},
   "outputs": [
    {
     "data": {
      "text/html": [
       "<div>\n",
       "<style scoped>\n",
       "    .dataframe tbody tr th:only-of-type {\n",
       "        vertical-align: middle;\n",
       "    }\n",
       "\n",
       "    .dataframe tbody tr th {\n",
       "        vertical-align: top;\n",
       "    }\n",
       "\n",
       "    .dataframe thead th {\n",
       "        text-align: right;\n",
       "    }\n",
       "</style>\n",
       "<table border=\"1\" class=\"dataframe\">\n",
       "  <thead>\n",
       "    <tr style=\"text-align: right;\">\n",
       "      <th></th>\n",
       "      <th>PAYS</th>\n",
       "      <th>Code</th>\n",
       "      <th>Location</th>\n",
       "      <th>Longitude</th>\n",
       "      <th>Latitude</th>\n",
       "      <th>Iodine131</th>\n",
       "      <th>Cesium134</th>\n",
       "      <th>Cesium137</th>\n",
       "    </tr>\n",
       "    <tr>\n",
       "      <th>Date</th>\n",
       "      <th></th>\n",
       "      <th></th>\n",
       "      <th></th>\n",
       "      <th></th>\n",
       "      <th></th>\n",
       "      <th></th>\n",
       "      <th></th>\n",
       "      <th></th>\n",
       "    </tr>\n",
       "  </thead>\n",
       "  <tbody>\n",
       "    <tr>\n",
       "      <th>1986-04-27</th>\n",
       "      <td>SE</td>\n",
       "      <td>1</td>\n",
       "      <td>RISOE</td>\n",
       "      <td>12.07</td>\n",
       "      <td>55.7</td>\n",
       "      <td>1</td>\n",
       "      <td>0</td>\n",
       "      <td>0.24</td>\n",
       "    </tr>\n",
       "    <tr>\n",
       "      <th>1986-04-28</th>\n",
       "      <td>SE</td>\n",
       "      <td>1</td>\n",
       "      <td>RISOE</td>\n",
       "      <td>12.07</td>\n",
       "      <td>55.7</td>\n",
       "      <td>0.0046</td>\n",
       "      <td>0.00054</td>\n",
       "      <td>0.00098</td>\n",
       "    </tr>\n",
       "    <tr>\n",
       "      <th>1986-04-29</th>\n",
       "      <td>SE</td>\n",
       "      <td>1</td>\n",
       "      <td>RISOE</td>\n",
       "      <td>12.07</td>\n",
       "      <td>55.7</td>\n",
       "      <td>0.0147</td>\n",
       "      <td>0.0043</td>\n",
       "      <td>0.0074</td>\n",
       "    </tr>\n",
       "    <tr>\n",
       "      <th>1986-04-29</th>\n",
       "      <td>SE</td>\n",
       "      <td>1</td>\n",
       "      <td>RISOE</td>\n",
       "      <td>12.07</td>\n",
       "      <td>55.7</td>\n",
       "      <td>0.00061</td>\n",
       "      <td>0</td>\n",
       "      <td>0.00009</td>\n",
       "    </tr>\n",
       "    <tr>\n",
       "      <th>1986-04-30</th>\n",
       "      <td>SE</td>\n",
       "      <td>1</td>\n",
       "      <td>RISOE</td>\n",
       "      <td>12.07</td>\n",
       "      <td>55.7</td>\n",
       "      <td>0.00075</td>\n",
       "      <td>0.0001</td>\n",
       "      <td>0.00028</td>\n",
       "    </tr>\n",
       "  </tbody>\n",
       "</table>\n",
       "</div>"
      ],
      "text/plain": [
       "           PAYS  Code Location  Longitude  Latitude Iodine131 Cesium134  \\\n",
       "Date                                                                      \n",
       "1986-04-27   SE     1    RISOE      12.07      55.7         1         0   \n",
       "1986-04-28   SE     1    RISOE      12.07      55.7    0.0046   0.00054   \n",
       "1986-04-29   SE     1    RISOE      12.07      55.7    0.0147    0.0043   \n",
       "1986-04-29   SE     1    RISOE      12.07      55.7   0.00061         0   \n",
       "1986-04-30   SE     1    RISOE      12.07      55.7   0.00075    0.0001   \n",
       "\n",
       "           Cesium137  \n",
       "Date                  \n",
       "1986-04-27      0.24  \n",
       "1986-04-28   0.00098  \n",
       "1986-04-29    0.0074  \n",
       "1986-04-29   0.00009  \n",
       "1986-04-30   0.00028  "
      ]
     },
     "execution_count": 4,
     "metadata": {},
     "output_type": "execute_result"
    }
   ],
   "source": [
    "chernobylData.rename(columns={'I_131_(Bq/m3)': 'Iodine131','Cs_134_(Bq/m3)': 'Cesium134','Cs_137_(Bq/m3)': 'Cesium137'}, inplace=True)\n",
    "chernobylData.head()"
   ]
  },
  {
   "cell_type": "code",
   "execution_count": 5,
   "metadata": {},
   "outputs": [
    {
     "data": {
      "text/plain": [
       "IT    303\n",
       "F     260\n",
       "DE    246\n",
       "AU    223\n",
       "SE    211\n",
       "CZ    134\n",
       "NL    121\n",
       "UK    119\n",
       "FI    107\n",
       "NO     73\n",
       "BE     72\n",
       "GR     60\n",
       "ES     44\n",
       "CH     42\n",
       "IR     23\n",
       "HU     13\n",
       "Name: PAYS, dtype: int64"
      ]
     },
     "execution_count": 5,
     "metadata": {},
     "output_type": "execute_result"
    }
   ],
   "source": [
    "chernobylData['PAYS'].value_counts()"
   ]
  },
  {
   "cell_type": "code",
   "execution_count": 6,
   "metadata": {},
   "outputs": [
    {
     "data": {
      "text/plain": [
       "ISPRA                 101\n",
       "KONALA(Helsinki)NW     79\n",
       "CAPANNA                59\n",
       "STOCKHOLM              58\n",
       "VIENNA.                56\n",
       "                     ... \n",
       "WALDHOF                 6\n",
       "BANSKA                  6\n",
       "MARCOULE                6\n",
       "USTI                    5\n",
       "GRAZ                    4\n",
       "Name: Location, Length: 95, dtype: int64"
      ]
     },
     "execution_count": 6,
     "metadata": {},
     "output_type": "execute_result"
    }
   ],
   "source": [
    "chernobylData['Location'].value_counts()"
   ]
  },
  {
   "cell_type": "code",
   "execution_count": 7,
   "metadata": {},
   "outputs": [
    {
     "data": {
      "text/plain": [
       "PAYS           0\n",
       "Code           0\n",
       "Location       0\n",
       "Longitude      0\n",
       "Latitude       0\n",
       "Iodine131     20\n",
       "Cesium134    154\n",
       "Cesium137    480\n",
       "dtype: int64"
      ]
     },
     "execution_count": 7,
     "metadata": {},
     "output_type": "execute_result"
    }
   ],
   "source": [
    "chernobylData.isnull().sum()"
   ]
  },
  {
   "cell_type": "code",
   "execution_count": 8,
   "metadata": {},
   "outputs": [
    {
     "data": {
      "text/html": [
       "<div>\n",
       "<style scoped>\n",
       "    .dataframe tbody tr th:only-of-type {\n",
       "        vertical-align: middle;\n",
       "    }\n",
       "\n",
       "    .dataframe tbody tr th {\n",
       "        vertical-align: top;\n",
       "    }\n",
       "\n",
       "    .dataframe thead th {\n",
       "        text-align: right;\n",
       "    }\n",
       "</style>\n",
       "<table border=\"1\" class=\"dataframe\">\n",
       "  <thead>\n",
       "    <tr style=\"text-align: right;\">\n",
       "      <th></th>\n",
       "      <th>PAYS</th>\n",
       "      <th>Code</th>\n",
       "      <th>Location</th>\n",
       "      <th>Longitude</th>\n",
       "      <th>Latitude</th>\n",
       "      <th>Iodine131</th>\n",
       "      <th>Cesium134</th>\n",
       "      <th>Cesium137</th>\n",
       "    </tr>\n",
       "    <tr>\n",
       "      <th>Date</th>\n",
       "      <th></th>\n",
       "      <th></th>\n",
       "      <th></th>\n",
       "      <th></th>\n",
       "      <th></th>\n",
       "      <th></th>\n",
       "      <th></th>\n",
       "      <th></th>\n",
       "    </tr>\n",
       "  </thead>\n",
       "  <tbody>\n",
       "    <tr>\n",
       "      <th>1986-04-27</th>\n",
       "      <td>Sweden</td>\n",
       "      <td>1</td>\n",
       "      <td>RISOE</td>\n",
       "      <td>12.07</td>\n",
       "      <td>55.7</td>\n",
       "      <td>1</td>\n",
       "      <td>0</td>\n",
       "      <td>0.24</td>\n",
       "    </tr>\n",
       "    <tr>\n",
       "      <th>1986-04-28</th>\n",
       "      <td>Sweden</td>\n",
       "      <td>1</td>\n",
       "      <td>RISOE</td>\n",
       "      <td>12.07</td>\n",
       "      <td>55.7</td>\n",
       "      <td>0.0046</td>\n",
       "      <td>0.00054</td>\n",
       "      <td>0.00098</td>\n",
       "    </tr>\n",
       "    <tr>\n",
       "      <th>1986-04-29</th>\n",
       "      <td>Sweden</td>\n",
       "      <td>1</td>\n",
       "      <td>RISOE</td>\n",
       "      <td>12.07</td>\n",
       "      <td>55.7</td>\n",
       "      <td>0.0147</td>\n",
       "      <td>0.0043</td>\n",
       "      <td>0.0074</td>\n",
       "    </tr>\n",
       "    <tr>\n",
       "      <th>1986-04-29</th>\n",
       "      <td>Sweden</td>\n",
       "      <td>1</td>\n",
       "      <td>RISOE</td>\n",
       "      <td>12.07</td>\n",
       "      <td>55.7</td>\n",
       "      <td>0.00061</td>\n",
       "      <td>0</td>\n",
       "      <td>0.00009</td>\n",
       "    </tr>\n",
       "    <tr>\n",
       "      <th>1986-04-30</th>\n",
       "      <td>Sweden</td>\n",
       "      <td>1</td>\n",
       "      <td>RISOE</td>\n",
       "      <td>12.07</td>\n",
       "      <td>55.7</td>\n",
       "      <td>0.00075</td>\n",
       "      <td>0.0001</td>\n",
       "      <td>0.00028</td>\n",
       "    </tr>\n",
       "  </tbody>\n",
       "</table>\n",
       "</div>"
      ],
      "text/plain": [
       "              PAYS  Code Location  Longitude  Latitude Iodine131 Cesium134  \\\n",
       "Date                                                                         \n",
       "1986-04-27  Sweden     1    RISOE      12.07      55.7         1         0   \n",
       "1986-04-28  Sweden     1    RISOE      12.07      55.7    0.0046   0.00054   \n",
       "1986-04-29  Sweden     1    RISOE      12.07      55.7    0.0147    0.0043   \n",
       "1986-04-29  Sweden     1    RISOE      12.07      55.7   0.00061         0   \n",
       "1986-04-30  Sweden     1    RISOE      12.07      55.7   0.00075    0.0001   \n",
       "\n",
       "           Cesium137  \n",
       "Date                  \n",
       "1986-04-27      0.24  \n",
       "1986-04-28   0.00098  \n",
       "1986-04-29    0.0074  \n",
       "1986-04-29   0.00009  \n",
       "1986-04-30   0.00028  "
      ]
     },
     "execution_count": 8,
     "metadata": {},
     "output_type": "execute_result"
    }
   ],
   "source": [
    "chernobylData.replace({'AU': 'Austria','BE': 'Belgium','CH': 'Switzerland','CZ': 'Czechoslovakia','DE': 'Germany','ES': 'Spain','F': 'France','FI': 'Finland','GR': 'Greece','HU': 'Hungary','IR': 'Ireland','IT': 'Italy','NL': 'Netherlands','NO': 'Norway','SE': 'Sweden','UK': 'United Kingdom'},inplace=True)\n",
    "chernobylData.head()"
   ]
  },
  {
   "cell_type": "code",
   "execution_count": 9,
   "metadata": {},
   "outputs": [],
   "source": [
    "chernobylData.drop(['Code'], axis=1, inplace=True)"
   ]
  },
  {
   "cell_type": "code",
   "execution_count": 10,
   "metadata": {},
   "outputs": [
    {
     "data": {
      "text/plain": [
       "Italy             303\n",
       "France            260\n",
       "Germany           246\n",
       "Austria           223\n",
       "Sweden            211\n",
       "Czechoslovakia    134\n",
       "Netherlands       121\n",
       "United Kingdom    119\n",
       "Finland           107\n",
       "Norway             73\n",
       "Belgium            72\n",
       "Greece             60\n",
       "Spain              44\n",
       "Switzerland        42\n",
       "Ireland            23\n",
       "Hungary            13\n",
       "Name: PAYS, dtype: int64"
      ]
     },
     "execution_count": 10,
     "metadata": {},
     "output_type": "execute_result"
    }
   ],
   "source": [
    "chernobylData['PAYS'].value_counts()"
   ]
  },
  {
   "cell_type": "code",
   "execution_count": 11,
   "metadata": {},
   "outputs": [
    {
     "data": {
      "text/plain": [
       "ISPRA                 101\n",
       "KONALA(Helsinki)NW     79\n",
       "CAPANNA                59\n",
       "STOCKHOLM              58\n",
       "VIENNA.                56\n",
       "                     ... \n",
       "WALDHOF                 6\n",
       "BANSKA                  6\n",
       "MARCOULE                6\n",
       "USTI                    5\n",
       "GRAZ                    4\n",
       "Name: Location, Length: 95, dtype: int64"
      ]
     },
     "execution_count": 11,
     "metadata": {},
     "output_type": "execute_result"
    }
   ],
   "source": [
    "chernobylData['Location'].value_counts()"
   ]
  },
  {
   "cell_type": "code",
   "execution_count": 12,
   "metadata": {},
   "outputs": [],
   "source": [
    "chernobylData.fillna(np.NAN, inplace=True)"
   ]
  },
  {
   "cell_type": "code",
   "execution_count": 13,
   "metadata": {},
   "outputs": [
    {
     "data": {
      "image/png": "[encoded data removed]",
      "text/plain": [
       "<Figure size 1500x500 with 1 Axes>"
      ]
     },
     "metadata": {},
     "output_type": "display_data"
    }
   ],
   "source": [
    "plt.figure(figsize=(15,5))\n",
    "sns.heatmap(chernobylData[['Iodine131','Cesium134','Cesium137']].isnull(), cbar=False);plt.show()"
   ]
  },
  {
   "cell_type": "code",
   "execution_count": 14,
   "metadata": {},
   "outputs": [],
   "source": [
    "chernobylData=chernobylData.fillna(np.NAN).replace('<',np.NAN).replace('L',np.NAN).replace('N',np.NAN)"
   ]
  },
  {
   "cell_type": "code",
   "execution_count": 15,
   "metadata": {},
   "outputs": [],
   "source": [
    "chernobylData[['Cesium137','Cesium134','Iodine131']].astype('float64')\n",
    "chernobylData[['Cesium137','Cesium134','Iodine131']] = chernobylData[['Cesium137','Cesium134','Iodine131']].apply(pd.to_numeric)"
   ]
  },
  {
   "cell_type": "code",
   "execution_count": 16,
   "metadata": {},
   "outputs": [
    {
     "name": "stdout",
     "output_type": "stream",
     "text": [
      "<class 'pandas.core.frame.DataFrame'>\n",
      "DatetimeIndex: 2051 entries, 1986-04-27 to 1986-05-11\n",
      "Data columns (total 7 columns):\n",
      " #   Column     Non-Null Count  Dtype  \n",
      "---  ------     --------------  -----  \n",
      " 0   PAYS       2051 non-null   object \n",
      " 1   Location   2051 non-null   object \n",
      " 2   Longitude  2051 non-null   float64\n",
      " 3   Latitude   2051 non-null   float64\n",
      " 4   Iodine131  2009 non-null   float64\n",
      " 5   Cesium134  1801 non-null   float64\n",
      " 6   Cesium137  1506 non-null   float64\n",
      "dtypes: float64(5), object(2)\n",
      "memory usage: 128.2+ KB\n"
     ]
    }
   ],
   "source": [
    "chernobylData.info()"
   ]
  },
  {
   "cell_type": "code",
   "execution_count": 17,
   "metadata": {},
   "outputs": [],
   "source": [
    "avgData = chernobylData.groupby(['Date','Location','PAYS']).mean()"
   ]
  },
  {
   "cell_type": "code",
   "execution_count": 18,
   "metadata": {},
   "outputs": [
    {
     "data": {
      "text/html": [
       "<div>\n",
       "<style scoped>\n",
       "    .dataframe tbody tr th:only-of-type {\n",
       "        vertical-align: middle;\n",
       "    }\n",
       "\n",
       "    .dataframe tbody tr th {\n",
       "        vertical-align: top;\n",
       "    }\n",
       "\n",
       "    .dataframe thead th {\n",
       "        text-align: right;\n",
       "    }\n",
       "</style>\n",
       "<table border=\"1\" class=\"dataframe\">\n",
       "  <thead>\n",
       "    <tr style=\"text-align: right;\">\n",
       "      <th></th>\n",
       "      <th></th>\n",
       "      <th></th>\n",
       "      <th>Longitude</th>\n",
       "      <th>Latitude</th>\n",
       "      <th>Iodine131</th>\n",
       "      <th>Cesium134</th>\n",
       "      <th>Cesium137</th>\n",
       "    </tr>\n",
       "    <tr>\n",
       "      <th>Date</th>\n",
       "      <th>Location</th>\n",
       "      <th>PAYS</th>\n",
       "      <th></th>\n",
       "      <th></th>\n",
       "      <th></th>\n",
       "      <th></th>\n",
       "      <th></th>\n",
       "    </tr>\n",
       "  </thead>\n",
       "  <tbody>\n",
       "    <tr>\n",
       "      <th>1986-04-27</th>\n",
       "      <th>RISOE</th>\n",
       "      <th>Sweden</th>\n",
       "      <td>12.07</td>\n",
       "      <td>55.70</td>\n",
       "      <td>1.00000</td>\n",
       "      <td>0.0000</td>\n",
       "      <td>0.240000</td>\n",
       "    </tr>\n",
       "    <tr>\n",
       "      <th rowspan=\"4\" valign=\"top\">1986-04-28</th>\n",
       "      <th>BERGEN</th>\n",
       "      <th>Norway</th>\n",
       "      <td>10.66</td>\n",
       "      <td>59.90</td>\n",
       "      <td>0.00020</td>\n",
       "      <td>0.0000</td>\n",
       "      <td>0.000000</td>\n",
       "    </tr>\n",
       "    <tr>\n",
       "      <th>KJELLER</th>\n",
       "      <th>Norway</th>\n",
       "      <td>10.66</td>\n",
       "      <td>59.90</td>\n",
       "      <td>0.12000</td>\n",
       "      <td>0.0000</td>\n",
       "      <td>0.020000</td>\n",
       "    </tr>\n",
       "    <tr>\n",
       "      <th>KONALA(Helsinki)NW</th>\n",
       "      <th>Finland</th>\n",
       "      <td>25.00</td>\n",
       "      <td>60.13</td>\n",
       "      <td>18.54000</td>\n",
       "      <td>0.1243</td>\n",
       "      <td>0.238475</td>\n",
       "    </tr>\n",
       "    <tr>\n",
       "      <th>LJUNGBYHED</th>\n",
       "      <th>Sweden</th>\n",
       "      <td>13.92</td>\n",
       "      <td>56.82</td>\n",
       "      <td>1.40395</td>\n",
       "      <td>0.2486</td>\n",
       "      <td>0.456950</td>\n",
       "    </tr>\n",
       "  </tbody>\n",
       "</table>\n",
       "</div>"
      ],
      "text/plain": [
       "                                       Longitude  Latitude  Iodine131  \\\n",
       "Date       Location           PAYS                                      \n",
       "1986-04-27 RISOE              Sweden       12.07     55.70    1.00000   \n",
       "1986-04-28 BERGEN             Norway       10.66     59.90    0.00020   \n",
       "           KJELLER            Norway       10.66     59.90    0.12000   \n",
       "           KONALA(Helsinki)NW Finland      25.00     60.13   18.54000   \n",
       "           LJUNGBYHED         Sweden       13.92     56.82    1.40395   \n",
       "\n",
       "                                       Cesium134  Cesium137  \n",
       "Date       Location           PAYS                           \n",
       "1986-04-27 RISOE              Sweden      0.0000   0.240000  \n",
       "1986-04-28 BERGEN             Norway      0.0000   0.000000  \n",
       "           KJELLER            Norway      0.0000   0.020000  \n",
       "           KONALA(Helsinki)NW Finland     0.1243   0.238475  \n",
       "           LJUNGBYHED         Sweden      0.2486   0.456950  "
      ]
     },
     "execution_count": 18,
     "metadata": {},
     "output_type": "execute_result"
    }
   ],
   "source": [
    "avgData.interpolate(method='linear', inplace=True)\n",
    "avgData.head()"
   ]
  },
  {
   "cell_type": "code",
   "execution_count": 19,
   "metadata": {},
   "outputs": [
    {
     "data": {
      "text/plain": [
       "Longitude    0\n",
       "Latitude     0\n",
       "Iodine131    0\n",
       "Cesium134    0\n",
       "Cesium137    0\n",
       "dtype: int64"
      ]
     },
     "execution_count": 19,
     "metadata": {},
     "output_type": "execute_result"
    }
   ],
   "source": [
    "avgData.isna().sum()"
   ]
  },
  {
   "cell_type": "code",
   "execution_count": 20,
   "metadata": {},
   "outputs": [
    {
     "data": {
      "text/html": [
       "<div>\n",
       "<style scoped>\n",
       "    .dataframe tbody tr th:only-of-type {\n",
       "        vertical-align: middle;\n",
       "    }\n",
       "\n",
       "    .dataframe tbody tr th {\n",
       "        vertical-align: top;\n",
       "    }\n",
       "\n",
       "    .dataframe thead th {\n",
       "        text-align: right;\n",
       "    }\n",
       "</style>\n",
       "<table border=\"1\" class=\"dataframe\">\n",
       "  <thead>\n",
       "    <tr style=\"text-align: right;\">\n",
       "      <th></th>\n",
       "      <th>Date</th>\n",
       "      <th>Location</th>\n",
       "      <th>PAYS</th>\n",
       "      <th>Longitude</th>\n",
       "      <th>Latitude</th>\n",
       "      <th>Iodine131</th>\n",
       "      <th>Cesium134</th>\n",
       "      <th>Cesium137</th>\n",
       "    </tr>\n",
       "  </thead>\n",
       "  <tbody>\n",
       "    <tr>\n",
       "      <th>0</th>\n",
       "      <td>1986-04-27</td>\n",
       "      <td>RISOE</td>\n",
       "      <td>Sweden</td>\n",
       "      <td>12.07</td>\n",
       "      <td>55.70</td>\n",
       "      <td>1.00000</td>\n",
       "      <td>0.0000</td>\n",
       "      <td>0.240000</td>\n",
       "    </tr>\n",
       "    <tr>\n",
       "      <th>1</th>\n",
       "      <td>1986-04-28</td>\n",
       "      <td>BERGEN</td>\n",
       "      <td>Norway</td>\n",
       "      <td>10.66</td>\n",
       "      <td>59.90</td>\n",
       "      <td>0.00020</td>\n",
       "      <td>0.0000</td>\n",
       "      <td>0.000000</td>\n",
       "    </tr>\n",
       "    <tr>\n",
       "      <th>2</th>\n",
       "      <td>1986-04-28</td>\n",
       "      <td>KJELLER</td>\n",
       "      <td>Norway</td>\n",
       "      <td>10.66</td>\n",
       "      <td>59.90</td>\n",
       "      <td>0.12000</td>\n",
       "      <td>0.0000</td>\n",
       "      <td>0.020000</td>\n",
       "    </tr>\n",
       "    <tr>\n",
       "      <th>3</th>\n",
       "      <td>1986-04-28</td>\n",
       "      <td>KONALA(Helsinki)NW</td>\n",
       "      <td>Finland</td>\n",
       "      <td>25.00</td>\n",
       "      <td>60.13</td>\n",
       "      <td>18.54000</td>\n",
       "      <td>0.1243</td>\n",
       "      <td>0.238475</td>\n",
       "    </tr>\n",
       "    <tr>\n",
       "      <th>4</th>\n",
       "      <td>1986-04-28</td>\n",
       "      <td>LJUNGBYHED</td>\n",
       "      <td>Sweden</td>\n",
       "      <td>13.92</td>\n",
       "      <td>56.82</td>\n",
       "      <td>1.40395</td>\n",
       "      <td>0.2486</td>\n",
       "      <td>0.456950</td>\n",
       "    </tr>\n",
       "  </tbody>\n",
       "</table>\n",
       "</div>"
      ],
      "text/plain": [
       "        Date            Location     PAYS  Longitude  Latitude  Iodine131  \\\n",
       "0 1986-04-27               RISOE   Sweden      12.07     55.70    1.00000   \n",
       "1 1986-04-28              BERGEN   Norway      10.66     59.90    0.00020   \n",
       "2 1986-04-28             KJELLER   Norway      10.66     59.90    0.12000   \n",
       "3 1986-04-28  KONALA(Helsinki)NW  Finland      25.00     60.13   18.54000   \n",
       "4 1986-04-28          LJUNGBYHED   Sweden      13.92     56.82    1.40395   \n",
       "\n",
       "   Cesium134  Cesium137  \n",
       "0     0.0000   0.240000  \n",
       "1     0.0000   0.000000  \n",
       "2     0.0000   0.020000  \n",
       "3     0.1243   0.238475  \n",
       "4     0.2486   0.456950  "
      ]
     },
     "execution_count": 20,
     "metadata": {},
     "output_type": "execute_result"
    }
   ],
   "source": [
    "avgData.reset_index(inplace=True)\n",
    "avgData.head()"
   ]
  },
  {
   "cell_type": "code",
   "execution_count": 21,
   "metadata": {},
   "outputs": [],
   "source": [
    "avgData['Location'] = pd.Categorical(avgData['Location'])\n",
    "avgData['PAYS'] = pd.Categorical(avgData['PAYS'])"
   ]
  },
  {
   "cell_type": "code",
   "execution_count": 22,
   "metadata": {},
   "outputs": [],
   "source": [
    "avgData.sort_values(by=['Date'], inplace=True)"
   ]
  },
  {
   "cell_type": "code",
   "execution_count": 24,
   "metadata": {},
   "outputs": [
    {
     "name": "stdout",
     "output_type": "stream",
     "text": [
      "<class 'pandas.core.frame.DataFrame'>\n",
      "Int64Index: 1414 entries, 0 to 1413\n",
      "Data columns (total 8 columns):\n",
      " #   Column     Non-Null Count  Dtype         \n",
      "---  ------     --------------  -----         \n",
      " 0   Date       1414 non-null   datetime64[ns]\n",
      " 1   Location   1414 non-null   category      \n",
      " 2   PAYS       1414 non-null   category      \n",
      " 3   Longitude  1414 non-null   float64       \n",
      " 4   Latitude   1414 non-null   float64       \n",
      " 5   Iodine131  1414 non-null   float64       \n",
      " 6   Cesium134  1414 non-null   float64       \n",
      " 7   Cesium137  1414 non-null   float64       \n",
      "dtypes: category(2), datetime64[ns](1), float64(5)\n",
      "memory usage: 83.6 KB\n"
     ]
    }
   ],
   "source": [
    "avgData.info()"
   ]
  }
 ],
 "metadata": {
  "kernelspec": {
   "display_name": "Python 3",
   "language": "python",
   "name": "python3"
  },
  "language_info": {
   "codemirror_mode": {
    "name": "ipython",
    "version": 3
   },
   "file_extension": ".py",
   "mimetype": "text/x-python",
   "name": "python",
   "nbconvert_exporter": "python",
   "pygments_lexer": "ipython3",
   "version": "3.11.2"
  },
  "orig_nbformat": 4
 },
 "nbformat": 4,
 "nbformat_minor": 2
}
